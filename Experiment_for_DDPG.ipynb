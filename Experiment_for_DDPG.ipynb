{
  "nbformat": 4,
  "nbformat_minor": 0,
  "metadata": {
    "colab": {
      "name": "Experiment for DDPG.ipynb",
      "provenance": []
    },
    "kernelspec": {
      "name": "python3",
      "display_name": "Python 3"
    },
    "language_info": {
      "name": "python"
    },
    "accelerator": "GPU"
  },
  "cells": [
    {
      "cell_type": "code",
      "execution_count": 1,
      "metadata": {
        "colab": {
          "base_uri": "https://localhost:8080/"
        },
        "id": "9g0ZhTHzJ-nt",
        "outputId": "38c1641e-1e0e-4edc-e49f-41430bcbfc66"
      },
      "outputs": [
        {
          "output_type": "stream",
          "name": "stdout",
          "text": [
            "Cloning into 'Toy-env-test'...\n",
            "remote: Enumerating objects: 24, done.\u001b[K\n",
            "remote: Counting objects: 100% (24/24), done.\u001b[K\n",
            "remote: Compressing objects: 100% (20/20), done.\u001b[K\n",
            "remote: Total 24 (delta 3), reused 24 (delta 3), pack-reused 0\u001b[K\n",
            "Unpacking objects: 100% (24/24), done.\n"
          ]
        }
      ],
      "source": [
        "!git clone https://github.com/Yang-Hyun-Jun/Toy-env-test.git"
      ]
    },
    {
      "cell_type": "code",
      "source": [
        "import sys\n",
        "sys.path.insert(0, \"/content/Toy-env-test\")"
      ],
      "metadata": {
        "id": "jaBG6xGFLJP6"
      },
      "execution_count": 3,
      "outputs": []
    },
    {
      "cell_type": "code",
      "source": [
        "import os\n",
        "\n",
        "os.makedirs(\"/content/Metrics\", exist_ok=True)\n",
        "os.makedirs(\"/content/Models\", exist_ok=True)"
      ],
      "metadata": {
        "id": "xkz3M7q4b-6k"
      },
      "execution_count": 13,
      "outputs": []
    },
    {
      "cell_type": "code",
      "source": [
        "import torch\n",
        "\n",
        "device = torch.device(\"cuda\" if torch.cuda.is_available() else \"cpu\")"
      ],
      "metadata": {
        "id": "gmULgwl3R-Ck"
      },
      "execution_count": 5,
      "outputs": []
    },
    {
      "cell_type": "code",
      "source": [
        "# Hyperparameters\n",
        "\n",
        "lr = 1e-8\n",
        "tau = 0.005\n",
        "delta = 0.005\n",
        "discount_facotr = 0.9\n",
        "num_episode = 50\n",
        "balance = 15000000\n",
        "batch_size = 30\n",
        "memory_size = 100\n",
        "min_trading_price = 0\n",
        "max_trading_price = 500000\n",
        "\n",
        "parameters = {\"lr\":lr, \n",
        "              \"tau\":tau,\n",
        "              \"K\":len(stock_list),\n",
        "              \"delta\":delta,\n",
        "              \"chart_data\":train_data,\n",
        "              \"discount_factor\":discount_factor,\n",
        "              \"min_trading_price\":min_trading_price,\n",
        "              \"max_trading_price\":max_trading_price,\n",
        "              \"batch_size\":batch_size,\n",
        "              \"memory_size\":memory_size}"
      ],
      "metadata": {
        "id": "earzkSlQeeY5"
      },
      "execution_count": null,
      "outputs": []
    },
    {
      "cell_type": "code",
      "source": [
        "# Data Load\n",
        "\n",
        "stock_list = [\"AAPL\", \"JD\", \"WBA\"]\n",
        "path_list = []\n",
        "\n",
        "for stock_name in stock_list:\n",
        "  path = utils.SAVE_DIR + \"/\" + stock_name\n",
        "  path_list.append(path)\n",
        "\n",
        "train_data, test_data = DataManager.get_data_tensor(path_list,\n",
        "                                                    train_date_start=\"2014-06-02\",\n",
        "                                                    train_date_end=\"2019-12-31\",\n",
        "                                                    test_date_start=\"2020-01-02\",\n",
        "                                                    test_date_end=\"2021-12-31\")"
      ],
      "metadata": {
        "id": "ktOf_z9JgZYF"
      },
      "execution_count": null,
      "outputs": []
    },
    {
      "cell_type": "code",
      "source": [
        "learner = DDPGLearner(**parameters)\n",
        "learner.run(num_episode=num_episode, balance=balance)\n",
        "learner.save_model(critic_path=utils.SAVE_DIR + \"/Models\" + \"/DDPGPortfolio_critic.pth\",\n",
        "                   actor_path=utils.SAVE_DIR + \"/Models\" + \"/DDPGPortfolio_actor.pth\")"
      ],
      "metadata": {
        "id": "uycK-W0CfdQq"
      },
      "execution_count": null,
      "outputs": []
    }
  ]
}