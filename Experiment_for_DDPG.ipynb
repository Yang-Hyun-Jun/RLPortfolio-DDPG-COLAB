{
  "nbformat": 4,
  "nbformat_minor": 0,
  "metadata": {
    "colab": {
      "name": "Experiment for DDPG.ipynb",
      "provenance": [],
      "collapsed_sections": []
    },
    "kernelspec": {
      "name": "python3",
      "display_name": "Python 3"
    },
    "language_info": {
      "name": "python"
    },
    "accelerator": "GPU"
  },
  "cells": [
    {
      "cell_type": "code",
      "execution_count": 1,
      "metadata": {
        "colab": {
          "base_uri": "https://localhost:8080/"
        },
        "id": "9g0ZhTHzJ-nt",
        "outputId": "7180a485-e97b-4a37-ca3e-34bfd8f28ddf"
      },
      "outputs": [
        {
          "output_type": "stream",
          "name": "stdout",
          "text": [
            "Cloning into 'RLPortfolio-DDPG-COLAB'...\n",
            "remote: Enumerating objects: 99, done.\u001b[K\n",
            "remote: Counting objects: 100% (99/99), done.\u001b[K\n",
            "remote: Compressing objects: 100% (72/72), done.\u001b[K\n",
            "remote: Total 99 (delta 50), reused 75 (delta 26), pack-reused 0\u001b[K\n",
            "Unpacking objects: 100% (99/99), done.\n"
          ]
        }
      ],
      "source": [
        "!git clone https://github.com/Yang-Hyun-Jun/RLPortfolio-DDPG-COLAB.git"
      ]
    },
    {
      "cell_type": "code",
      "source": [
        "!pip install mplfinance"
      ],
      "metadata": {
        "colab": {
          "base_uri": "https://localhost:8080/"
        },
        "id": "nqEsD3295nmG",
        "outputId": "86433198-9e2f-489a-ddc8-83b3efa053ab"
      },
      "execution_count": 2,
      "outputs": [
        {
          "output_type": "stream",
          "name": "stdout",
          "text": [
            "Collecting mplfinance\n",
            "  Downloading mplfinance-0.12.9b0-py3-none-any.whl (70 kB)\n",
            "\u001b[?25l\r\u001b[K     |████▋                           | 10 kB 29.6 MB/s eta 0:00:01\r\u001b[K     |█████████▎                      | 20 kB 17.2 MB/s eta 0:00:01\r\u001b[K     |██████████████                  | 30 kB 16.0 MB/s eta 0:00:01\r\u001b[K     |██████████████████▋             | 40 kB 14.5 MB/s eta 0:00:01\r\u001b[K     |███████████████████████▏        | 51 kB 6.5 MB/s eta 0:00:01\r\u001b[K     |███████████████████████████▉    | 61 kB 7.7 MB/s eta 0:00:01\r\u001b[K     |████████████████████████████████| 70 kB 5.0 MB/s \n",
            "\u001b[?25hRequirement already satisfied: matplotlib in /usr/local/lib/python3.7/dist-packages (from mplfinance) (3.2.2)\n",
            "Requirement already satisfied: pandas in /usr/local/lib/python3.7/dist-packages (from mplfinance) (1.3.5)\n",
            "Requirement already satisfied: pyparsing!=2.0.4,!=2.1.2,!=2.1.6,>=2.0.1 in /usr/local/lib/python3.7/dist-packages (from matplotlib->mplfinance) (3.0.9)\n",
            "Requirement already satisfied: kiwisolver>=1.0.1 in /usr/local/lib/python3.7/dist-packages (from matplotlib->mplfinance) (1.4.2)\n",
            "Requirement already satisfied: python-dateutil>=2.1 in /usr/local/lib/python3.7/dist-packages (from matplotlib->mplfinance) (2.8.2)\n",
            "Requirement already satisfied: cycler>=0.10 in /usr/local/lib/python3.7/dist-packages (from matplotlib->mplfinance) (0.11.0)\n",
            "Requirement already satisfied: numpy>=1.11 in /usr/local/lib/python3.7/dist-packages (from matplotlib->mplfinance) (1.21.6)\n",
            "Requirement already satisfied: typing-extensions in /usr/local/lib/python3.7/dist-packages (from kiwisolver>=1.0.1->matplotlib->mplfinance) (4.2.0)\n",
            "Requirement already satisfied: six>=1.5 in /usr/local/lib/python3.7/dist-packages (from python-dateutil>=2.1->matplotlib->mplfinance) (1.15.0)\n",
            "Requirement already satisfied: pytz>=2017.3 in /usr/local/lib/python3.7/dist-packages (from pandas->mplfinance) (2022.1)\n",
            "Installing collected packages: mplfinance\n",
            "Successfully installed mplfinance-0.12.9b0\n"
          ]
        }
      ]
    },
    {
      "cell_type": "code",
      "source": [
        "import sys\n",
        "import os\n",
        "import torch"
      ],
      "metadata": {
        "id": "ixdw6ne43v1i"
      },
      "execution_count": 3,
      "outputs": []
    },
    {
      "cell_type": "code",
      "source": [
        "sys.path.insert(0, \"/content/RLPortfolio-DDPG-COLAB\")"
      ],
      "metadata": {
        "id": "jaBG6xGFLJP6"
      },
      "execution_count": 4,
      "outputs": []
    },
    {
      "cell_type": "code",
      "source": [
        "os.makedirs(\"/content/Metrics\", exist_ok=True)\n",
        "os.makedirs(\"/content/Models\", exist_ok=True)"
      ],
      "metadata": {
        "id": "xkz3M7q4b-6k"
      },
      "execution_count": 5,
      "outputs": []
    },
    {
      "cell_type": "code",
      "source": [
        "import DataManager\n",
        "import utils\n",
        "\n",
        "from Learner import DDPGLearner\n",
        "from Test import DDPGTester"
      ],
      "metadata": {
        "id": "mnF7ve5F5eVf"
      },
      "execution_count": 6,
      "outputs": []
    },
    {
      "cell_type": "code",
      "source": [
        "# Data Load\n",
        "\n",
        "stock_list = [\"AAPL\", \"JD\", \"WBA\"]\n",
        "path_list = []\n",
        "\n",
        "for stock_name in stock_list:\n",
        "  path = utils.SAVE_DIR + \"/RLPortfolio-DDPG-COLAB/Data/\" + stock_name\n",
        "  path_list.append(path)\n",
        "\n",
        "train_data, test_data = DataManager.get_data_tensor(path_list,\n",
        "                                                    train_date_start=\"2014-06-02\",\n",
        "                                                    train_date_end=\"2019-12-31\",\n",
        "                                                    test_date_start=\"2020-01-02\",\n",
        "                                                    test_date_end=\"2021-12-31\")"
      ],
      "metadata": {
        "colab": {
          "base_uri": "https://localhost:8080/"
        },
        "id": "ktOf_z9JgZYF",
        "outputId": "4c5ffe17-1b57-46e8-9d9e-6b5c354f3517"
      },
      "execution_count": 7,
      "outputs": [
        {
          "output_type": "stream",
          "name": "stdout",
          "text": [
            "-------------------------------------\n",
            "학습 데이터 시작 거래일: 20140602\n",
            "학습 데이터 마지막 거래일: 20191231\n",
            "테스트 데이터 시작 거래일: 20200102\n",
            "테스트 데이터 마지막 거래일: 20211231\n",
            "학습 데이터:(1407, 6, 3)\n",
            "테스트 데이터:(505, 6, 3)\n",
            "-------------------------------------\n"
          ]
        }
      ]
    },
    {
      "cell_type": "code",
      "source": [
        "# Hyperparameters\n",
        "\n",
        "K = len(stock_list)\n",
        "lr = 1e-8\n",
        "tau = 0.005\n",
        "delta = 0.005\n",
        "discount_factor = 0.9\n",
        "num_episode = 1\n",
        "balance = 15000000\n",
        "batch_size = 30\n",
        "memory_size = 100\n",
        "min_trading_price = 0\n",
        "max_trading_price = 500000\n",
        "\n",
        "parameters1 = {\"lr\":lr, \n",
        "               \"tau\":tau,\n",
        "               \"K\":K,\n",
        "               \"delta\":delta,\n",
        "               \"chart_data\":train_data,\n",
        "               \"discount_factor\":discount_factor,\n",
        "               \"min_trading_price\":min_trading_price,\n",
        "               \"max_trading_price\":max_trading_price,\n",
        "               \"batch_size\":batch_size,\n",
        "               \"memory_size\":memory_size}\n",
        "\n",
        "parameters2 = {\"K\":K,\n",
        "               \"balance\":balance,\n",
        "               \"min_trading_price\":min_trading_price,\n",
        "               \"max_trading_price\":max_trading_price,\n",
        "               \"delta\":delta,\n",
        "               \"test_data\":test_data}"
      ],
      "metadata": {
        "id": "earzkSlQeeY5"
      },
      "execution_count": 8,
      "outputs": []
    },
    {
      "cell_type": "code",
      "source": [
        "learner = DDPGLearner(**parameters1)\n",
        "learner.run(num_episode=num_episode, balance=balance)\n",
        "learner.save_model(critic_path=utils.SAVE_DIR + \"/Models\" + \"/DDPGPortfolio_critic.pth\",\n",
        "                   actor_path=utils.SAVE_DIR + \"/Models\" + \"/DDPGPortfolio_actor.pth\")"
      ],
      "metadata": {
        "id": "uycK-W0CfdQq"
      },
      "execution_count": null,
      "outputs": []
    },
    {
      "cell_type": "code",
      "source": [
        "tester = DDPGTester(**parameters2)\n",
        "tester.run()"
      ],
      "metadata": {
        "id": "SoSEEtF06j4l"
      },
      "execution_count": null,
      "outputs": []
    }
  ]
}